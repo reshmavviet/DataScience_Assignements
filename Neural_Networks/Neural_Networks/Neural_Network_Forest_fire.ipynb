{
 "cells": [
  {
   "cell_type": "code",
   "execution_count": 1,
   "id": "b631bad2-b109-4c2a-8943-8ac3b4fd068e",
   "metadata": {},
   "outputs": [
    {
     "name": "stdout",
     "output_type": "stream",
     "text": [
      "WARNING:tensorflow:From C:\\Users\\R128\\AppData\\Local\\anaconda\\Lib\\site-packages\\keras\\src\\losses.py:2976: The name tf.losses.sparse_softmax_cross_entropy is deprecated. Please use tf.compat.v1.losses.sparse_softmax_cross_entropy instead.\n",
      "\n"
     ]
    }
   ],
   "source": [
    "from keras.models import Sequential\n",
    "from keras.layers import Dense\n",
    "import numpy as np\n",
    "import numpy\n",
    "import pandas as pd"
   ]
  },
  {
   "cell_type": "code",
   "execution_count": 2,
   "id": "54b368a2-84b9-46ef-8fcf-7c3b07fd9ec6",
   "metadata": {},
   "outputs": [
    {
     "data": {
      "text/html": [
       "<div>\n",
       "<style scoped>\n",
       "    .dataframe tbody tr th:only-of-type {\n",
       "        vertical-align: middle;\n",
       "    }\n",
       "\n",
       "    .dataframe tbody tr th {\n",
       "        vertical-align: top;\n",
       "    }\n",
       "\n",
       "    .dataframe thead th {\n",
       "        text-align: right;\n",
       "    }\n",
       "</style>\n",
       "<table border=\"1\" class=\"dataframe\">\n",
       "  <thead>\n",
       "    <tr style=\"text-align: right;\">\n",
       "      <th></th>\n",
       "      <th>month</th>\n",
       "      <th>day</th>\n",
       "      <th>FFMC</th>\n",
       "      <th>DMC</th>\n",
       "      <th>DC</th>\n",
       "      <th>ISI</th>\n",
       "      <th>temp</th>\n",
       "      <th>RH</th>\n",
       "      <th>wind</th>\n",
       "      <th>rain</th>\n",
       "      <th>...</th>\n",
       "      <th>monthfeb</th>\n",
       "      <th>monthjan</th>\n",
       "      <th>monthjul</th>\n",
       "      <th>monthjun</th>\n",
       "      <th>monthmar</th>\n",
       "      <th>monthmay</th>\n",
       "      <th>monthnov</th>\n",
       "      <th>monthoct</th>\n",
       "      <th>monthsep</th>\n",
       "      <th>size_category</th>\n",
       "    </tr>\n",
       "  </thead>\n",
       "  <tbody>\n",
       "    <tr>\n",
       "      <th>0</th>\n",
       "      <td>mar</td>\n",
       "      <td>fri</td>\n",
       "      <td>86.2</td>\n",
       "      <td>26.2</td>\n",
       "      <td>94.3</td>\n",
       "      <td>5.1</td>\n",
       "      <td>8.2</td>\n",
       "      <td>51</td>\n",
       "      <td>6.7</td>\n",
       "      <td>0.0</td>\n",
       "      <td>...</td>\n",
       "      <td>0</td>\n",
       "      <td>0</td>\n",
       "      <td>0</td>\n",
       "      <td>0</td>\n",
       "      <td>1</td>\n",
       "      <td>0</td>\n",
       "      <td>0</td>\n",
       "      <td>0</td>\n",
       "      <td>0</td>\n",
       "      <td>small</td>\n",
       "    </tr>\n",
       "    <tr>\n",
       "      <th>1</th>\n",
       "      <td>oct</td>\n",
       "      <td>tue</td>\n",
       "      <td>90.6</td>\n",
       "      <td>35.4</td>\n",
       "      <td>669.1</td>\n",
       "      <td>6.7</td>\n",
       "      <td>18.0</td>\n",
       "      <td>33</td>\n",
       "      <td>0.9</td>\n",
       "      <td>0.0</td>\n",
       "      <td>...</td>\n",
       "      <td>0</td>\n",
       "      <td>0</td>\n",
       "      <td>0</td>\n",
       "      <td>0</td>\n",
       "      <td>0</td>\n",
       "      <td>0</td>\n",
       "      <td>0</td>\n",
       "      <td>1</td>\n",
       "      <td>0</td>\n",
       "      <td>small</td>\n",
       "    </tr>\n",
       "    <tr>\n",
       "      <th>2</th>\n",
       "      <td>oct</td>\n",
       "      <td>sat</td>\n",
       "      <td>90.6</td>\n",
       "      <td>43.7</td>\n",
       "      <td>686.9</td>\n",
       "      <td>6.7</td>\n",
       "      <td>14.6</td>\n",
       "      <td>33</td>\n",
       "      <td>1.3</td>\n",
       "      <td>0.0</td>\n",
       "      <td>...</td>\n",
       "      <td>0</td>\n",
       "      <td>0</td>\n",
       "      <td>0</td>\n",
       "      <td>0</td>\n",
       "      <td>0</td>\n",
       "      <td>0</td>\n",
       "      <td>0</td>\n",
       "      <td>1</td>\n",
       "      <td>0</td>\n",
       "      <td>small</td>\n",
       "    </tr>\n",
       "    <tr>\n",
       "      <th>3</th>\n",
       "      <td>mar</td>\n",
       "      <td>fri</td>\n",
       "      <td>91.7</td>\n",
       "      <td>33.3</td>\n",
       "      <td>77.5</td>\n",
       "      <td>9.0</td>\n",
       "      <td>8.3</td>\n",
       "      <td>97</td>\n",
       "      <td>4.0</td>\n",
       "      <td>0.2</td>\n",
       "      <td>...</td>\n",
       "      <td>0</td>\n",
       "      <td>0</td>\n",
       "      <td>0</td>\n",
       "      <td>0</td>\n",
       "      <td>1</td>\n",
       "      <td>0</td>\n",
       "      <td>0</td>\n",
       "      <td>0</td>\n",
       "      <td>0</td>\n",
       "      <td>small</td>\n",
       "    </tr>\n",
       "    <tr>\n",
       "      <th>4</th>\n",
       "      <td>mar</td>\n",
       "      <td>sun</td>\n",
       "      <td>89.3</td>\n",
       "      <td>51.3</td>\n",
       "      <td>102.2</td>\n",
       "      <td>9.6</td>\n",
       "      <td>11.4</td>\n",
       "      <td>99</td>\n",
       "      <td>1.8</td>\n",
       "      <td>0.0</td>\n",
       "      <td>...</td>\n",
       "      <td>0</td>\n",
       "      <td>0</td>\n",
       "      <td>0</td>\n",
       "      <td>0</td>\n",
       "      <td>1</td>\n",
       "      <td>0</td>\n",
       "      <td>0</td>\n",
       "      <td>0</td>\n",
       "      <td>0</td>\n",
       "      <td>small</td>\n",
       "    </tr>\n",
       "  </tbody>\n",
       "</table>\n",
       "<p>5 rows × 31 columns</p>\n",
       "</div>"
      ],
      "text/plain": [
       "  month  day  FFMC   DMC     DC  ISI  temp  RH  wind  rain  ...  monthfeb  \\\n",
       "0   mar  fri  86.2  26.2   94.3  5.1   8.2  51   6.7   0.0  ...         0   \n",
       "1   oct  tue  90.6  35.4  669.1  6.7  18.0  33   0.9   0.0  ...         0   \n",
       "2   oct  sat  90.6  43.7  686.9  6.7  14.6  33   1.3   0.0  ...         0   \n",
       "3   mar  fri  91.7  33.3   77.5  9.0   8.3  97   4.0   0.2  ...         0   \n",
       "4   mar  sun  89.3  51.3  102.2  9.6  11.4  99   1.8   0.0  ...         0   \n",
       "\n",
       "   monthjan  monthjul  monthjun  monthmar  monthmay  monthnov  monthoct  \\\n",
       "0         0         0         0         1         0         0         0   \n",
       "1         0         0         0         0         0         0         1   \n",
       "2         0         0         0         0         0         0         1   \n",
       "3         0         0         0         1         0         0         0   \n",
       "4         0         0         0         1         0         0         0   \n",
       "\n",
       "   monthsep  size_category  \n",
       "0         0          small  \n",
       "1         0          small  \n",
       "2         0          small  \n",
       "3         0          small  \n",
       "4         0          small  \n",
       "\n",
       "[5 rows x 31 columns]"
      ]
     },
     "execution_count": 2,
     "metadata": {},
     "output_type": "execute_result"
    }
   ],
   "source": [
    "forest = pd.read_csv('forestfires.csv')\n",
    "forest.head()"
   ]
  },
  {
   "cell_type": "code",
   "execution_count": 3,
   "id": "d85c5699-1373-46df-8b03-27b5dc981a9a",
   "metadata": {},
   "outputs": [
    {
     "data": {
      "text/plain": [
       "array([[-8.05959472e-01, -1.32332557e+00, -1.83047676e+00, ...,\n",
       "        -4.40225453e-02, -1.72859706e-01, -7.06081245e-01],\n",
       "       [-8.10203395e-03, -1.17954077e+00,  4.88890915e-01, ...,\n",
       "        -4.40225453e-02,  5.78503817e+00, -7.06081245e-01],\n",
       "       [-8.10203395e-03, -1.04982188e+00,  5.60715454e-01, ...,\n",
       "        -4.40225453e-02,  5.78503817e+00, -7.06081245e-01],\n",
       "       ...,\n",
       "       [-1.64008316e+00, -8.46647711e-01,  4.74768113e-01, ...,\n",
       "        -4.40225453e-02, -1.72859706e-01, -7.06081245e-01],\n",
       "       [ 6.80956663e-01,  5.49002541e-01,  2.69382214e-01, ...,\n",
       "        -4.40225453e-02, -1.72859706e-01, -7.06081245e-01],\n",
       "       [-2.02087875e+00, -1.68591332e+00, -1.78044169e+00, ...,\n",
       "         2.27156334e+01, -1.72859706e-01, -7.06081245e-01]])"
      ]
     },
     "execution_count": 3,
     "metadata": {},
     "output_type": "execute_result"
    }
   ],
   "source": [
    "forest1 = forest.iloc[:,2:30]\n",
    "\n",
    "from sklearn.preprocessing import StandardScaler\n",
    "\n",
    "sc = StandardScaler()\n",
    "forest_norm = sc.fit_transform(forest1)\n",
    "forest_norm"
   ]
  },
  {
   "cell_type": "code",
   "execution_count": 4,
   "id": "43929a9d-eca5-4344-85f0-fec56ffafba1",
   "metadata": {},
   "outputs": [
    {
     "data": {
      "text/plain": [
       "(array([ 18.,  11.,  31.,  47.,  92., 127.,  99.,  55.,  24.,  13.]),\n",
       " array([ 2.2 ,  5.31,  8.42, 11.53, 14.64, 17.75, 20.86, 23.97, 27.08,\n",
       "        30.19, 33.3 ]),\n",
       " <BarContainer object of 10 artists>)"
      ]
     },
     "execution_count": 4,
     "metadata": {},
     "output_type": "execute_result"
    },
    {
     "data": {
      "image/png": "[encoded data removed]",
      "text/plain": [
       "<Figure size 640x480 with 1 Axes>"
      ]
     },
     "metadata": {},
     "output_type": "display_data"
    }
   ],
   "source": [
    "import matplotlib.pyplot as plt\n",
    "plt.hist(forest['temp'])"
   ]
  },
  {
   "cell_type": "code",
   "execution_count": 5,
   "id": "82b15e56-7729-46c0-8cef-1db50a20e4d6",
   "metadata": {},
   "outputs": [
    {
     "data": {
      "text/plain": [
       "(array([ 21.,  96., 130., 104.,  63.,  40.,  31.,  20.,   7.,   5.]),\n",
       " array([ 15. ,  23.5,  32. ,  40.5,  49. ,  57.5,  66. ,  74.5,  83. ,\n",
       "         91.5, 100. ]),\n",
       " <BarContainer object of 10 artists>)"
      ]
     },
     "execution_count": 5,
     "metadata": {},
     "output_type": "execute_result"
    },
    {
     "data": {
      "image/png": "[encoded data removed]",
      "text/plain": [
       "<Figure size 640x480 with 1 Axes>"
      ]
     },
     "metadata": {},
     "output_type": "display_data"
    }
   ],
   "source": [
    "plt.hist(forest['RH'])"
   ]
  },
  {
   "cell_type": "markdown",
   "id": "6e104414-15bc-439e-bea6-6c5846c157f1",
   "metadata": {},
   "source": [
    "### boxplot:checking the outliers"
   ]
  },
  {
   "cell_type": "code",
   "execution_count": 6,
   "id": "d4b9254d-e843-41a8-ba9d-70827f91beff",
   "metadata": {},
   "outputs": [
    {
     "data": {
      "text/plain": [
       "<Axes: >"
      ]
     },
     "execution_count": 6,
     "metadata": {},
     "output_type": "execute_result"
    },
    {
     "data": {
      "image/png": "[encoded data removed]",
      "text/plain": [
       "<Figure size 640x480 with 1 Axes>"
      ]
     },
     "metadata": {},
     "output_type": "display_data"
    }
   ],
   "source": [
    "forest.boxplot(column=['FFMC'])"
   ]
  },
  {
   "cell_type": "code",
   "execution_count": 7,
   "id": "a9d0f42f-f8e1-417a-ab1a-c2bb909a2712",
   "metadata": {},
   "outputs": [
    {
     "data": {
      "text/plain": [
       "<Axes: >"
      ]
     },
     "execution_count": 7,
     "metadata": {},
     "output_type": "execute_result"
    },
    {
     "data": {
      "image/png": "[encoded data removed]",
      "text/plain": [
       "<Figure size 640x480 with 1 Axes>"
      ]
     },
     "metadata": {},
     "output_type": "display_data"
    }
   ],
   "source": [
    "forest.boxplot(column=['wind'])"
   ]
  },
  {
   "cell_type": "code",
   "execution_count": 8,
   "id": "e5490d2b-a111-4aa2-a885-b6b9f9601471",
   "metadata": {},
   "outputs": [
    {
     "name": "stderr",
     "output_type": "stream",
     "text": [
      "C:\\Users\\R128\\AppData\\Local\\anaconda\\Lib\\site-packages\\seaborn\\categorical.py:1794: FutureWarning: use_inf_as_na option is deprecated and will be removed in a future version. Convert inf values to NaN before operating instead.\n",
      "  with pd.option_context('mode.use_inf_as_na', True):\n",
      "C:\\Users\\R128\\AppData\\Local\\anaconda\\Lib\\site-packages\\seaborn\\categorical.py:1794: FutureWarning: use_inf_as_na option is deprecated and will be removed in a future version. Convert inf values to NaN before operating instead.\n",
      "  with pd.option_context('mode.use_inf_as_na', True):\n"
     ]
    },
    {
     "data": {
      "image/png": "[encoded data removed]",
      "text/plain": [
       "<Figure size 1200x800 with 1 Axes>"
      ]
     },
     "metadata": {},
     "output_type": "display_data"
    }
   ],
   "source": [
    "import seaborn as sns\n",
    "\n",
    "plt.figure(figsize = (12,8))\n",
    "sns.boxenplot(x = 'size_category', y = 'temp', data = forest)\n",
    "plt.show()"
   ]
  },
  {
   "cell_type": "code",
   "execution_count": 9,
   "id": "09fdb836-d7a3-4dca-b8af-1d08c2c672c8",
   "metadata": {},
   "outputs": [
    {
     "name": "stderr",
     "output_type": "stream",
     "text": [
      "C:\\Users\\R128\\AppData\\Local\\anaconda\\Lib\\site-packages\\seaborn\\categorical.py:1794: FutureWarning: use_inf_as_na option is deprecated and will be removed in a future version. Convert inf values to NaN before operating instead.\n",
      "  with pd.option_context('mode.use_inf_as_na', True):\n",
      "C:\\Users\\R128\\AppData\\Local\\anaconda\\Lib\\site-packages\\seaborn\\categorical.py:1794: FutureWarning: use_inf_as_na option is deprecated and will be removed in a future version. Convert inf values to NaN before operating instead.\n",
      "  with pd.option_context('mode.use_inf_as_na', True):\n"
     ]
    },
    {
     "data": {
      "image/png": "[encoded data removed]",
      "text/plain": [
       "<Figure size 1200x800 with 1 Axes>"
      ]
     },
     "metadata": {},
     "output_type": "display_data"
    }
   ],
   "source": [
    "plt.figure(figsize = (12,8))\n",
    "sns.boxenplot(x = 'size_category', y = 'temp', data = forest)\n",
    "plt.show()"
   ]
  },
  {
   "cell_type": "code",
   "execution_count": 10,
   "id": "8a0502dc-5946-4b93-8bbf-6063ddd50890",
   "metadata": {},
   "outputs": [
    {
     "data": {
      "text/plain": [
       "array([[ 3.76670947e+00, -1.32025451e+00, -8.43971398e-01, ...,\n",
       "        -6.53345819e-02,  1.30619034e-14, -1.63267504e-16],\n",
       "       [ 3.90786263e-01,  8.31061522e-01, -1.10136513e+00, ...,\n",
       "         3.42618601e-02,  4.68082711e-15, -4.51925684e-16],\n",
       "       [ 6.90415596e-01,  1.17774562e+00, -1.22199841e+00, ...,\n",
       "         2.63235187e-02,  4.39226511e-15, -2.00039593e-16],\n",
       "       ...,\n",
       "       [ 9.21634000e-01, -2.64543072e-01,  2.71921606e+00, ...,\n",
       "        -2.97865814e-01,  3.29069057e-17,  3.06608857e-16],\n",
       "       [-1.62054896e+00, -9.78838231e-01,  3.31987355e-01, ...,\n",
       "         3.91949863e-02,  5.35070622e-16,  1.08857027e-16],\n",
       "       [ 4.07590654e+00, -3.67440726e-01, -2.47151775e-01, ...,\n",
       "        -2.50420726e-02,  1.24763181e-16,  7.68823392e-17]])"
      ]
     },
     "execution_count": 10,
     "metadata": {},
     "output_type": "execute_result"
    }
   ],
   "source": [
    "from sklearn.decomposition import PCA\n",
    "\n",
    "pca=PCA(n_components=28)\n",
    "pca_values=pca.fit_transform(forest_norm)\n",
    "pca_values"
   ]
  },
  {
   "cell_type": "code",
   "execution_count": 11,
   "id": "0dfc5c6f-881c-427d-9df3-23b38a6fa774",
   "metadata": {},
   "outputs": [
    {
     "data": {
      "text/plain": [
       "array([1.35522746e-01, 6.85788793e-02, 6.23572652e-02, 5.32713255e-02,\n",
       "       4.75942360e-02, 4.68009902e-02, 4.37490015e-02, 4.28025164e-02,\n",
       "       4.08875728e-02, 4.01633268e-02, 3.92926854e-02, 3.83232321e-02,\n",
       "       3.64221503e-02, 3.63217289e-02, 3.57856782e-02, 3.50087806e-02,\n",
       "       3.35447704e-02, 3.24777366e-02, 3.04490902e-02, 3.00246758e-02,\n",
       "       2.37167400e-02, 2.08329788e-02, 1.18357869e-02, 8.88449559e-03,\n",
       "       4.55347471e-03, 7.98135931e-04, 2.67271490e-32, 2.12618672e-33])"
      ]
     },
     "execution_count": 11,
     "metadata": {},
     "output_type": "execute_result"
    }
   ],
   "source": [
    "var = pca.explained_variance_ratio_\n",
    "var"
   ]
  },
  {
   "cell_type": "code",
   "execution_count": 12,
   "id": "427a9bba-9348-424a-a0ef-b30fb31cef22",
   "metadata": {},
   "outputs": [
    {
     "data": {
      "text/plain": [
       "array([13.55, 20.41, 26.65, 31.98, 36.74, 41.42, 45.79, 50.07, 54.16,\n",
       "       58.18, 62.11, 65.94, 69.58, 73.21, 76.79, 80.29, 83.64, 86.89,\n",
       "       89.93, 92.93, 95.3 , 97.38, 98.56, 99.45, 99.91, 99.99, 99.99,\n",
       "       99.99])"
      ]
     },
     "execution_count": 12,
     "metadata": {},
     "output_type": "execute_result"
    }
   ],
   "source": [
    "var1 = np.cumsum(np.round(var,decimals=4)*100)\n",
    "var1"
   ]
  },
  {
   "cell_type": "code",
   "execution_count": 13,
   "id": "9ca47717-c859-4e7a-abb2-3df680bd056d",
   "metadata": {},
   "outputs": [
    {
     "data": {
      "text/plain": [
       "[<matplotlib.lines.Line2D at 0x1df78ac2310>]"
      ]
     },
     "execution_count": 13,
     "metadata": {},
     "output_type": "execute_result"
    },
    {
     "data": {
      "image/png": "[encoded data removed]",
      "text/plain": [
       "<Figure size 1200x800 with 1 Axes>"
      ]
     },
     "metadata": {},
     "output_type": "display_data"
    }
   ],
   "source": [
    "import matplotlib.pyplot as plt\n",
    "\n",
    "plt.figure(figsize=(12,8))\n",
    "plt.plot(var1,color='red')"
   ]
  },
  {
   "cell_type": "code",
   "execution_count": 14,
   "id": "3dfd91c6-0b53-4857-8064-818be9e33074",
   "metadata": {},
   "outputs": [
    {
     "data": {
      "text/html": [
       "<div>\n",
       "<style scoped>\n",
       "    .dataframe tbody tr th:only-of-type {\n",
       "        vertical-align: middle;\n",
       "    }\n",
       "\n",
       "    .dataframe tbody tr th {\n",
       "        vertical-align: top;\n",
       "    }\n",
       "\n",
       "    .dataframe thead th {\n",
       "        text-align: right;\n",
       "    }\n",
       "</style>\n",
       "<table border=\"1\" class=\"dataframe\">\n",
       "  <thead>\n",
       "    <tr style=\"text-align: right;\">\n",
       "      <th></th>\n",
       "      <th>pc1</th>\n",
       "      <th>pc2</th>\n",
       "      <th>pc3</th>\n",
       "      <th>pc4</th>\n",
       "      <th>pc5</th>\n",
       "      <th>pc6</th>\n",
       "      <th>pc7</th>\n",
       "      <th>pc8</th>\n",
       "      <th>pc9</th>\n",
       "      <th>pc10</th>\n",
       "      <th>...</th>\n",
       "      <th>pc14</th>\n",
       "      <th>pc15</th>\n",
       "      <th>pc16</th>\n",
       "      <th>pc17</th>\n",
       "      <th>pc18</th>\n",
       "      <th>pc19</th>\n",
       "      <th>pc20</th>\n",
       "      <th>pc21</th>\n",
       "      <th>pc22</th>\n",
       "      <th>size_category</th>\n",
       "    </tr>\n",
       "  </thead>\n",
       "  <tbody>\n",
       "    <tr>\n",
       "      <th>0</th>\n",
       "      <td>3.766709</td>\n",
       "      <td>-1.320255</td>\n",
       "      <td>-0.843971</td>\n",
       "      <td>-1.994738</td>\n",
       "      <td>-1.453359</td>\n",
       "      <td>0.693985</td>\n",
       "      <td>0.308104</td>\n",
       "      <td>-0.019764</td>\n",
       "      <td>0.010161</td>\n",
       "      <td>-0.437314</td>\n",
       "      <td>...</td>\n",
       "      <td>-0.671216</td>\n",
       "      <td>-0.529599</td>\n",
       "      <td>-0.197543</td>\n",
       "      <td>-0.021839</td>\n",
       "      <td>0.688958</td>\n",
       "      <td>0.563603</td>\n",
       "      <td>-0.439596</td>\n",
       "      <td>-0.926619</td>\n",
       "      <td>-0.405425</td>\n",
       "      <td>0</td>\n",
       "    </tr>\n",
       "    <tr>\n",
       "      <th>1</th>\n",
       "      <td>0.390786</td>\n",
       "      <td>0.831062</td>\n",
       "      <td>-1.101365</td>\n",
       "      <td>1.400671</td>\n",
       "      <td>2.869388</td>\n",
       "      <td>0.965898</td>\n",
       "      <td>-2.795574</td>\n",
       "      <td>0.041095</td>\n",
       "      <td>-0.548879</td>\n",
       "      <td>0.104500</td>\n",
       "      <td>...</td>\n",
       "      <td>1.417634</td>\n",
       "      <td>-0.879983</td>\n",
       "      <td>-2.503167</td>\n",
       "      <td>0.499649</td>\n",
       "      <td>0.563706</td>\n",
       "      <td>-0.703319</td>\n",
       "      <td>-1.535718</td>\n",
       "      <td>-0.892995</td>\n",
       "      <td>0.836590</td>\n",
       "      <td>0</td>\n",
       "    </tr>\n",
       "    <tr>\n",
       "      <th>2</th>\n",
       "      <td>0.690416</td>\n",
       "      <td>1.177746</td>\n",
       "      <td>-1.221998</td>\n",
       "      <td>2.442038</td>\n",
       "      <td>1.090630</td>\n",
       "      <td>0.390801</td>\n",
       "      <td>-1.586675</td>\n",
       "      <td>-2.159336</td>\n",
       "      <td>-0.090580</td>\n",
       "      <td>0.260888</td>\n",
       "      <td>...</td>\n",
       "      <td>1.477351</td>\n",
       "      <td>-0.946682</td>\n",
       "      <td>-2.545144</td>\n",
       "      <td>-0.658411</td>\n",
       "      <td>-0.423618</td>\n",
       "      <td>0.860550</td>\n",
       "      <td>-1.195230</td>\n",
       "      <td>-0.297870</td>\n",
       "      <td>0.743648</td>\n",
       "      <td>0</td>\n",
       "    </tr>\n",
       "    <tr>\n",
       "      <th>3</th>\n",
       "      <td>3.359951</td>\n",
       "      <td>-1.161443</td>\n",
       "      <td>0.385728</td>\n",
       "      <td>-2.118328</td>\n",
       "      <td>-1.949601</td>\n",
       "      <td>1.027664</td>\n",
       "      <td>-0.179422</td>\n",
       "      <td>-0.250227</td>\n",
       "      <td>-0.620329</td>\n",
       "      <td>-1.343189</td>\n",
       "      <td>...</td>\n",
       "      <td>-0.752744</td>\n",
       "      <td>0.349346</td>\n",
       "      <td>-0.040887</td>\n",
       "      <td>0.017843</td>\n",
       "      <td>0.332572</td>\n",
       "      <td>1.164745</td>\n",
       "      <td>-1.632741</td>\n",
       "      <td>-0.817618</td>\n",
       "      <td>1.523710</td>\n",
       "      <td>0</td>\n",
       "    </tr>\n",
       "    <tr>\n",
       "      <th>4</th>\n",
       "      <td>2.974329</td>\n",
       "      <td>-0.842626</td>\n",
       "      <td>1.327788</td>\n",
       "      <td>0.038086</td>\n",
       "      <td>-1.124763</td>\n",
       "      <td>-0.574676</td>\n",
       "      <td>-0.777155</td>\n",
       "      <td>0.303635</td>\n",
       "      <td>0.861126</td>\n",
       "      <td>-2.024719</td>\n",
       "      <td>...</td>\n",
       "      <td>-0.823316</td>\n",
       "      <td>0.402298</td>\n",
       "      <td>0.844431</td>\n",
       "      <td>1.014944</td>\n",
       "      <td>-0.618231</td>\n",
       "      <td>0.822853</td>\n",
       "      <td>-1.794109</td>\n",
       "      <td>-0.723371</td>\n",
       "      <td>2.020419</td>\n",
       "      <td>0</td>\n",
       "    </tr>\n",
       "    <tr>\n",
       "      <th>...</th>\n",
       "      <td>...</td>\n",
       "      <td>...</td>\n",
       "      <td>...</td>\n",
       "      <td>...</td>\n",
       "      <td>...</td>\n",
       "      <td>...</td>\n",
       "      <td>...</td>\n",
       "      <td>...</td>\n",
       "      <td>...</td>\n",
       "      <td>...</td>\n",
       "      <td>...</td>\n",
       "      <td>...</td>\n",
       "      <td>...</td>\n",
       "      <td>...</td>\n",
       "      <td>...</td>\n",
       "      <td>...</td>\n",
       "      <td>...</td>\n",
       "      <td>...</td>\n",
       "      <td>...</td>\n",
       "      <td>...</td>\n",
       "      <td>...</td>\n",
       "    </tr>\n",
       "    <tr>\n",
       "      <th>512</th>\n",
       "      <td>-0.087560</td>\n",
       "      <td>0.153964</td>\n",
       "      <td>1.241810</td>\n",
       "      <td>1.536581</td>\n",
       "      <td>0.372425</td>\n",
       "      <td>-1.133422</td>\n",
       "      <td>-0.362287</td>\n",
       "      <td>0.766946</td>\n",
       "      <td>0.818745</td>\n",
       "      <td>-0.289632</td>\n",
       "      <td>...</td>\n",
       "      <td>0.197490</td>\n",
       "      <td>-0.801640</td>\n",
       "      <td>0.300522</td>\n",
       "      <td>0.513876</td>\n",
       "      <td>0.539642</td>\n",
       "      <td>-0.052958</td>\n",
       "      <td>1.898628</td>\n",
       "      <td>-1.441786</td>\n",
       "      <td>-0.821192</td>\n",
       "      <td>1</td>\n",
       "    </tr>\n",
       "    <tr>\n",
       "      <th>513</th>\n",
       "      <td>0.794366</td>\n",
       "      <td>-0.083966</td>\n",
       "      <td>2.670485</td>\n",
       "      <td>0.284995</td>\n",
       "      <td>0.223323</td>\n",
       "      <td>-0.904232</td>\n",
       "      <td>-0.014849</td>\n",
       "      <td>0.107226</td>\n",
       "      <td>1.340049</td>\n",
       "      <td>-0.147246</td>\n",
       "      <td>...</td>\n",
       "      <td>0.162358</td>\n",
       "      <td>-0.274733</td>\n",
       "      <td>0.342367</td>\n",
       "      <td>0.485571</td>\n",
       "      <td>0.580150</td>\n",
       "      <td>0.384984</td>\n",
       "      <td>0.086251</td>\n",
       "      <td>-0.970693</td>\n",
       "      <td>-1.353365</td>\n",
       "      <td>1</td>\n",
       "    </tr>\n",
       "    <tr>\n",
       "      <th>514</th>\n",
       "      <td>0.921634</td>\n",
       "      <td>-0.264543</td>\n",
       "      <td>2.719216</td>\n",
       "      <td>-0.019643</td>\n",
       "      <td>0.242195</td>\n",
       "      <td>-0.966939</td>\n",
       "      <td>-0.118080</td>\n",
       "      <td>0.123010</td>\n",
       "      <td>1.290364</td>\n",
       "      <td>-0.177553</td>\n",
       "      <td>...</td>\n",
       "      <td>0.062647</td>\n",
       "      <td>-0.494765</td>\n",
       "      <td>0.332816</td>\n",
       "      <td>0.344047</td>\n",
       "      <td>0.122409</td>\n",
       "      <td>0.313948</td>\n",
       "      <td>0.211157</td>\n",
       "      <td>-0.777731</td>\n",
       "      <td>-1.736711</td>\n",
       "      <td>1</td>\n",
       "    </tr>\n",
       "    <tr>\n",
       "      <th>515</th>\n",
       "      <td>-1.620549</td>\n",
       "      <td>-0.978838</td>\n",
       "      <td>0.331987</td>\n",
       "      <td>1.256638</td>\n",
       "      <td>-0.408164</td>\n",
       "      <td>0.735698</td>\n",
       "      <td>0.815510</td>\n",
       "      <td>-1.398344</td>\n",
       "      <td>0.076379</td>\n",
       "      <td>-0.005814</td>\n",
       "      <td>...</td>\n",
       "      <td>0.246912</td>\n",
       "      <td>-0.147679</td>\n",
       "      <td>-0.011739</td>\n",
       "      <td>-1.035533</td>\n",
       "      <td>-0.774382</td>\n",
       "      <td>-0.216315</td>\n",
       "      <td>0.515791</td>\n",
       "      <td>0.080575</td>\n",
       "      <td>-0.055548</td>\n",
       "      <td>0</td>\n",
       "    </tr>\n",
       "    <tr>\n",
       "      <th>516</th>\n",
       "      <td>4.075907</td>\n",
       "      <td>-0.367441</td>\n",
       "      <td>-0.247152</td>\n",
       "      <td>0.979966</td>\n",
       "      <td>6.792273</td>\n",
       "      <td>5.943666</td>\n",
       "      <td>-1.639583</td>\n",
       "      <td>8.121827</td>\n",
       "      <td>-0.627980</td>\n",
       "      <td>4.953722</td>\n",
       "      <td>...</td>\n",
       "      <td>6.584205</td>\n",
       "      <td>-6.010301</td>\n",
       "      <td>10.467443</td>\n",
       "      <td>-7.333036</td>\n",
       "      <td>0.377340</td>\n",
       "      <td>8.870354</td>\n",
       "      <td>-1.074288</td>\n",
       "      <td>2.382433</td>\n",
       "      <td>1.042850</td>\n",
       "      <td>0</td>\n",
       "    </tr>\n",
       "  </tbody>\n",
       "</table>\n",
       "<p>517 rows × 23 columns</p>\n",
       "</div>"
      ],
      "text/plain": [
       "          pc1       pc2       pc3       pc4       pc5       pc6       pc7  \\\n",
       "0    3.766709 -1.320255 -0.843971 -1.994738 -1.453359  0.693985  0.308104   \n",
       "1    0.390786  0.831062 -1.101365  1.400671  2.869388  0.965898 -2.795574   \n",
       "2    0.690416  1.177746 -1.221998  2.442038  1.090630  0.390801 -1.586675   \n",
       "3    3.359951 -1.161443  0.385728 -2.118328 -1.949601  1.027664 -0.179422   \n",
       "4    2.974329 -0.842626  1.327788  0.038086 -1.124763 -0.574676 -0.777155   \n",
       "..        ...       ...       ...       ...       ...       ...       ...   \n",
       "512 -0.087560  0.153964  1.241810  1.536581  0.372425 -1.133422 -0.362287   \n",
       "513  0.794366 -0.083966  2.670485  0.284995  0.223323 -0.904232 -0.014849   \n",
       "514  0.921634 -0.264543  2.719216 -0.019643  0.242195 -0.966939 -0.118080   \n",
       "515 -1.620549 -0.978838  0.331987  1.256638 -0.408164  0.735698  0.815510   \n",
       "516  4.075907 -0.367441 -0.247152  0.979966  6.792273  5.943666 -1.639583   \n",
       "\n",
       "          pc8       pc9      pc10  ...      pc14      pc15       pc16  \\\n",
       "0   -0.019764  0.010161 -0.437314  ... -0.671216 -0.529599  -0.197543   \n",
       "1    0.041095 -0.548879  0.104500  ...  1.417634 -0.879983  -2.503167   \n",
       "2   -2.159336 -0.090580  0.260888  ...  1.477351 -0.946682  -2.545144   \n",
       "3   -0.250227 -0.620329 -1.343189  ... -0.752744  0.349346  -0.040887   \n",
       "4    0.303635  0.861126 -2.024719  ... -0.823316  0.402298   0.844431   \n",
       "..        ...       ...       ...  ...       ...       ...        ...   \n",
       "512  0.766946  0.818745 -0.289632  ...  0.197490 -0.801640   0.300522   \n",
       "513  0.107226  1.340049 -0.147246  ...  0.162358 -0.274733   0.342367   \n",
       "514  0.123010  1.290364 -0.177553  ...  0.062647 -0.494765   0.332816   \n",
       "515 -1.398344  0.076379 -0.005814  ...  0.246912 -0.147679  -0.011739   \n",
       "516  8.121827 -0.627980  4.953722  ...  6.584205 -6.010301  10.467443   \n",
       "\n",
       "         pc17      pc18      pc19      pc20      pc21      pc22  size_category  \n",
       "0   -0.021839  0.688958  0.563603 -0.439596 -0.926619 -0.405425              0  \n",
       "1    0.499649  0.563706 -0.703319 -1.535718 -0.892995  0.836590              0  \n",
       "2   -0.658411 -0.423618  0.860550 -1.195230 -0.297870  0.743648              0  \n",
       "3    0.017843  0.332572  1.164745 -1.632741 -0.817618  1.523710              0  \n",
       "4    1.014944 -0.618231  0.822853 -1.794109 -0.723371  2.020419              0  \n",
       "..        ...       ...       ...       ...       ...       ...            ...  \n",
       "512  0.513876  0.539642 -0.052958  1.898628 -1.441786 -0.821192              1  \n",
       "513  0.485571  0.580150  0.384984  0.086251 -0.970693 -1.353365              1  \n",
       "514  0.344047  0.122409  0.313948  0.211157 -0.777731 -1.736711              1  \n",
       "515 -1.035533 -0.774382 -0.216315  0.515791  0.080575 -0.055548              0  \n",
       "516 -7.333036  0.377340  8.870354 -1.074288  2.382433  1.042850              0  \n",
       "\n",
       "[517 rows x 23 columns]"
      ]
     },
     "execution_count": 14,
     "metadata": {},
     "output_type": "execute_result"
    }
   ],
   "source": [
    "finaldf=pd.concat([pd.DataFrame(pca_values[:,0:22],columns=['pc1','pc2','pc3','pc4','pc5','pc6','pc7','pc8','pc9','pc10','pc11',\n",
    "                                                            'pc12','pc13','pc14','pc15','pc16','pc17','pc18','pc19','pc20',\n",
    "                                                            'pc21','pc22']),forest[['size_category']]], axis = 1)\n",
    "finaldf.size_category.replace(('large','small'),(1,0),inplace=True)\n",
    "finaldf"
   ]
  },
  {
   "cell_type": "code",
   "execution_count": 15,
   "id": "a0e23007-3fcf-42f7-8d99-d12b34892979",
   "metadata": {},
   "outputs": [],
   "source": [
    "array = finaldf.values\n",
    "x=array[:,0:22]\n",
    "y=array[:,22]"
   ]
  },
  {
   "cell_type": "code",
   "execution_count": 16,
   "id": "c19c7f73-7a7f-40fd-82c3-b26a25fbb287",
   "metadata": {},
   "outputs": [
    {
     "data": {
      "text/plain": [
       "array([[ 3.76670947, -1.32025451, -0.8439714 , ..., -0.43959599,\n",
       "        -0.92661895, -0.40542518],\n",
       "       [ 0.39078626,  0.83106152, -1.10136513, ..., -1.53571806,\n",
       "        -0.8929954 ,  0.83659019],\n",
       "       [ 0.6904156 ,  1.17774562, -1.22199841, ..., -1.19523005,\n",
       "        -0.29786986,  0.7436481 ],\n",
       "       ...,\n",
       "       [ 0.921634  , -0.26454307,  2.71921606, ...,  0.21115669,\n",
       "        -0.7777305 , -1.73671092],\n",
       "       [-1.62054896, -0.97883823,  0.33198736, ...,  0.51579057,\n",
       "         0.08057542, -0.05554841],\n",
       "       [ 4.07590654, -0.36744073, -0.24715178, ..., -1.07428814,\n",
       "         2.38243347,  1.04284992]])"
      ]
     },
     "execution_count": 16,
     "metadata": {},
     "output_type": "execute_result"
    }
   ],
   "source": [
    "x"
   ]
  },
  {
   "cell_type": "code",
   "execution_count": 17,
   "id": "d8a7b07d-c580-4d06-8cc2-7f01bbaddeec",
   "metadata": {},
   "outputs": [
    {
     "data": {
      "text/plain": [
       "array([0., 0., 0., 0., 0., 0., 0., 0., 0., 0., 0., 0., 0., 0., 0., 0., 0.,\n",
       "       0., 0., 0., 0., 0., 0., 0., 0., 0., 0., 0., 0., 0., 0., 0., 0., 0.,\n",
       "       0., 0., 0., 0., 0., 0., 0., 0., 0., 0., 0., 0., 0., 0., 0., 0., 0.,\n",
       "       0., 0., 0., 0., 0., 0., 0., 0., 0., 0., 0., 0., 0., 0., 0., 0., 0.,\n",
       "       0., 0., 0., 0., 0., 0., 0., 0., 0., 0., 0., 0., 0., 0., 0., 0., 0.,\n",
       "       0., 0., 0., 0., 0., 0., 0., 0., 0., 0., 0., 0., 0., 0., 0., 0., 0.,\n",
       "       0., 0., 0., 0., 0., 0., 0., 0., 0., 0., 0., 0., 0., 0., 0., 0., 0.,\n",
       "       0., 0., 0., 0., 0., 0., 0., 0., 0., 0., 0., 0., 0., 0., 0., 0., 0.,\n",
       "       0., 0., 0., 0., 0., 0., 0., 0., 0., 0., 0., 0., 0., 0., 0., 0., 0.,\n",
       "       0., 0., 0., 0., 0., 0., 0., 0., 0., 0., 0., 0., 0., 0., 0., 0., 0.,\n",
       "       0., 0., 0., 0., 0., 0., 0., 0., 0., 0., 0., 0., 1., 1., 1., 1., 1.,\n",
       "       1., 1., 1., 1., 1., 1., 1., 1., 1., 1., 1., 1., 1., 1., 1., 1., 1.,\n",
       "       1., 1., 1., 1., 1., 1., 1., 1., 1., 1., 1., 1., 1., 1., 1., 1., 1.,\n",
       "       1., 1., 1., 1., 1., 1., 1., 1., 1., 1., 1., 1., 1., 1., 1., 1., 1.,\n",
       "       1., 0., 0., 0., 1., 0., 0., 0., 0., 0., 0., 0., 0., 0., 0., 0., 1.,\n",
       "       0., 1., 0., 0., 0., 1., 0., 0., 0., 1., 0., 0., 0., 0., 0., 0., 1.,\n",
       "       0., 1., 1., 0., 1., 1., 1., 1., 1., 1., 0., 0., 1., 0., 0., 0., 0.,\n",
       "       0., 0., 1., 0., 1., 1., 0., 0., 0., 0., 0., 0., 0., 0., 0., 0., 0.,\n",
       "       0., 0., 0., 0., 0., 1., 0., 0., 0., 0., 0., 0., 0., 0., 1., 1., 0.,\n",
       "       0., 0., 0., 0., 0., 0., 0., 1., 1., 1., 0., 0., 0., 0., 1., 1., 0.,\n",
       "       0., 0., 0., 0., 1., 0., 1., 0., 0., 0., 0., 1., 0., 0., 0., 1., 0.,\n",
       "       0., 0., 1., 0., 0., 0., 0., 0., 1., 0., 0., 1., 0., 1., 0., 0., 0.,\n",
       "       1., 1., 0., 1., 0., 0., 1., 1., 0., 1., 1., 1., 1., 0., 1., 0., 1.,\n",
       "       1., 1., 0., 0., 1., 0., 0., 0., 0., 1., 0., 0., 0., 1., 0., 0., 0.,\n",
       "       1., 0., 0., 0., 0., 0., 0., 1., 1., 0., 0., 0., 1., 0., 1., 0., 0.,\n",
       "       0., 0., 0., 0., 0., 0., 1., 0., 1., 0., 0., 0., 0., 1., 0., 0., 0.,\n",
       "       0., 0., 1., 0., 0., 0., 0., 0., 1., 1., 0., 0., 0., 0., 0., 1., 0.,\n",
       "       0., 0., 0., 0., 0., 0., 1., 0., 0., 1., 1., 0., 1., 0., 1., 1., 0.,\n",
       "       0., 1., 0., 1., 0., 0., 0., 0., 1., 0., 0., 1., 1., 0., 0., 0., 0.,\n",
       "       1., 1., 0., 0., 1., 1., 1., 0., 0., 0., 0., 1., 0., 0., 0., 0., 0.,\n",
       "       0., 0., 1., 1., 1., 0., 0.])"
      ]
     },
     "execution_count": 17,
     "metadata": {},
     "output_type": "execute_result"
    }
   ],
   "source": [
    "y"
   ]
  },
  {
   "cell_type": "code",
   "execution_count": 18,
   "id": "acc5b307-0de9-440a-bd20-6a08c6321fe1",
   "metadata": {},
   "outputs": [
    {
     "name": "stdout",
     "output_type": "stream",
     "text": [
      "WARNING:tensorflow:From C:\\Users\\R128\\AppData\\Local\\anaconda\\Lib\\site-packages\\keras\\src\\backend.py:873: The name tf.get_default_graph is deprecated. Please use tf.compat.v1.get_default_graph instead.\n",
      "\n"
     ]
    }
   ],
   "source": [
    "model = Sequential()\n",
    "model.add(Dense(40, input_dim=22, activation='relu'))\n",
    "model.add(Dense(11, activation='relu'))\n",
    "model.add(Dense(1, activation='sigmoid'))"
   ]
  },
  {
   "cell_type": "code",
   "execution_count": 19,
   "id": "2db8eef0-4932-4cb0-a5c8-52712c0150bb",
   "metadata": {},
   "outputs": [
    {
     "name": "stdout",
     "output_type": "stream",
     "text": [
      "WARNING:tensorflow:From C:\\Users\\R128\\AppData\\Local\\anaconda\\Lib\\site-packages\\keras\\src\\optimizers\\__init__.py:309: The name tf.train.Optimizer is deprecated. Please use tf.compat.v1.train.Optimizer instead.\n",
      "\n"
     ]
    }
   ],
   "source": [
    "model.compile(loss='binary_crossentropy', optimizer='adam', metrics=['accuracy'])"
   ]
  },
  {
   "cell_type": "code",
   "execution_count": 20,
   "id": "33b4cb76-f964-46c7-9abe-667c34ec9ba4",
   "metadata": {},
   "outputs": [
    {
     "name": "stdout",
     "output_type": "stream",
     "text": [
      "Epoch 1/100\n",
      "WARNING:tensorflow:From C:\\Users\\R128\\AppData\\Local\\anaconda\\Lib\\site-packages\\keras\\src\\utils\\tf_utils.py:492: The name tf.ragged.RaggedTensorValue is deprecated. Please use tf.compat.v1.ragged.RaggedTensorValue instead.\n",
      "\n",
      "WARNING:tensorflow:From C:\\Users\\R128\\AppData\\Local\\anaconda\\Lib\\site-packages\\keras\\src\\engine\\base_layer_utils.py:384: The name tf.executing_eagerly_outside_functions is deprecated. Please use tf.compat.v1.executing_eagerly_outside_functions instead.\n",
      "\n",
      "37/37 [==============================] - 2s 13ms/step - loss: 0.6315 - accuracy: 0.7452 - val_loss: 0.7469 - val_accuracy: 0.6731\n",
      "Epoch 2/100\n",
      "37/37 [==============================] - 0s 5ms/step - loss: 0.5611 - accuracy: 0.7562 - val_loss: 0.7505 - val_accuracy: 0.6731\n",
      "Epoch 3/100\n",
      "37/37 [==============================] - 0s 6ms/step - loss: 0.5249 - accuracy: 0.7562 - val_loss: 0.7547 - val_accuracy: 0.6731\n",
      "Epoch 4/100\n",
      "37/37 [==============================] - 0s 6ms/step - loss: 0.5028 - accuracy: 0.7645 - val_loss: 0.7416 - val_accuracy: 0.6795\n",
      "Epoch 5/100\n",
      "37/37 [==============================] - 0s 6ms/step - loss: 0.4891 - accuracy: 0.7673 - val_loss: 0.7521 - val_accuracy: 0.6795\n",
      "Epoch 6/100\n",
      "37/37 [==============================] - 0s 6ms/step - loss: 0.4764 - accuracy: 0.7673 - val_loss: 0.7681 - val_accuracy: 0.6795\n",
      "Epoch 7/100\n",
      "37/37 [==============================] - 0s 8ms/step - loss: 0.4674 - accuracy: 0.7701 - val_loss: 0.7668 - val_accuracy: 0.6795\n",
      "Epoch 8/100\n",
      "37/37 [==============================] - 0s 7ms/step - loss: 0.4568 - accuracy: 0.7729 - val_loss: 0.7715 - val_accuracy: 0.6859\n",
      "Epoch 9/100\n",
      "37/37 [==============================] - 0s 8ms/step - loss: 0.4479 - accuracy: 0.7729 - val_loss: 0.7738 - val_accuracy: 0.6859\n",
      "Epoch 10/100\n",
      "37/37 [==============================] - 0s 6ms/step - loss: 0.4383 - accuracy: 0.7784 - val_loss: 0.7719 - val_accuracy: 0.6859\n",
      "Epoch 11/100\n",
      "37/37 [==============================] - 0s 8ms/step - loss: 0.4303 - accuracy: 0.7839 - val_loss: 0.7839 - val_accuracy: 0.6859\n",
      "Epoch 12/100\n",
      "37/37 [==============================] - 0s 8ms/step - loss: 0.4189 - accuracy: 0.7978 - val_loss: 0.7770 - val_accuracy: 0.6923\n",
      "Epoch 13/100\n",
      "37/37 [==============================] - 0s 8ms/step - loss: 0.4096 - accuracy: 0.8144 - val_loss: 0.7876 - val_accuracy: 0.6923\n",
      "Epoch 14/100\n",
      "37/37 [==============================] - 0s 7ms/step - loss: 0.3999 - accuracy: 0.8006 - val_loss: 0.7894 - val_accuracy: 0.6987\n",
      "Epoch 15/100\n",
      "37/37 [==============================] - 0s 5ms/step - loss: 0.3939 - accuracy: 0.8172 - val_loss: 0.7894 - val_accuracy: 0.7051\n",
      "Epoch 16/100\n",
      "37/37 [==============================] - 0s 5ms/step - loss: 0.3844 - accuracy: 0.8144 - val_loss: 0.7942 - val_accuracy: 0.6987\n",
      "Epoch 17/100\n",
      "37/37 [==============================] - 0s 5ms/step - loss: 0.3722 - accuracy: 0.8283 - val_loss: 0.7857 - val_accuracy: 0.7051\n",
      "Epoch 18/100\n",
      "37/37 [==============================] - 0s 6ms/step - loss: 0.3653 - accuracy: 0.8199 - val_loss: 0.7827 - val_accuracy: 0.7179\n",
      "Epoch 19/100\n",
      "37/37 [==============================] - 0s 6ms/step - loss: 0.3546 - accuracy: 0.8255 - val_loss: 0.7824 - val_accuracy: 0.7179\n",
      "Epoch 20/100\n",
      "37/37 [==============================] - 0s 9ms/step - loss: 0.3429 - accuracy: 0.8449 - val_loss: 0.7789 - val_accuracy: 0.7244\n",
      "Epoch 21/100\n",
      "37/37 [==============================] - 0s 10ms/step - loss: 0.3328 - accuracy: 0.8476 - val_loss: 0.7743 - val_accuracy: 0.7308\n",
      "Epoch 22/100\n",
      "37/37 [==============================] - 0s 9ms/step - loss: 0.3236 - accuracy: 0.8560 - val_loss: 0.7788 - val_accuracy: 0.7308\n",
      "Epoch 23/100\n",
      "37/37 [==============================] - 0s 10ms/step - loss: 0.3157 - accuracy: 0.8615 - val_loss: 0.7800 - val_accuracy: 0.7308\n",
      "Epoch 24/100\n",
      "37/37 [==============================] - 0s 11ms/step - loss: 0.3102 - accuracy: 0.8726 - val_loss: 0.7648 - val_accuracy: 0.7372\n",
      "Epoch 25/100\n",
      "37/37 [==============================] - 0s 10ms/step - loss: 0.3033 - accuracy: 0.8643 - val_loss: 0.7521 - val_accuracy: 0.7436\n",
      "Epoch 26/100\n",
      "37/37 [==============================] - 0s 11ms/step - loss: 0.2908 - accuracy: 0.8947 - val_loss: 0.7613 - val_accuracy: 0.7372\n",
      "Epoch 27/100\n",
      "37/37 [==============================] - 0s 10ms/step - loss: 0.2866 - accuracy: 0.8920 - val_loss: 0.7446 - val_accuracy: 0.7308\n",
      "Epoch 28/100\n",
      "37/37 [==============================] - 0s 11ms/step - loss: 0.2741 - accuracy: 0.8920 - val_loss: 0.7318 - val_accuracy: 0.7372\n",
      "Epoch 29/100\n",
      "37/37 [==============================] - 0s 9ms/step - loss: 0.2630 - accuracy: 0.8975 - val_loss: 0.7390 - val_accuracy: 0.7436\n",
      "Epoch 30/100\n",
      "37/37 [==============================] - 0s 9ms/step - loss: 0.2529 - accuracy: 0.9141 - val_loss: 0.7571 - val_accuracy: 0.7564\n",
      "Epoch 31/100\n",
      "37/37 [==============================] - 0s 9ms/step - loss: 0.2468 - accuracy: 0.9114 - val_loss: 0.7275 - val_accuracy: 0.7500\n",
      "Epoch 32/100\n",
      "37/37 [==============================] - 0s 11ms/step - loss: 0.2437 - accuracy: 0.9252 - val_loss: 0.7388 - val_accuracy: 0.7500\n",
      "Epoch 33/100\n",
      "37/37 [==============================] - 0s 11ms/step - loss: 0.2301 - accuracy: 0.9141 - val_loss: 0.7281 - val_accuracy: 0.7821\n",
      "Epoch 34/100\n",
      "37/37 [==============================] - 0s 10ms/step - loss: 0.2168 - accuracy: 0.9224 - val_loss: 0.6929 - val_accuracy: 0.7564\n",
      "Epoch 35/100\n",
      "37/37 [==============================] - 0s 10ms/step - loss: 0.2091 - accuracy: 0.9280 - val_loss: 0.7143 - val_accuracy: 0.7628\n",
      "Epoch 36/100\n",
      "37/37 [==============================] - 0s 11ms/step - loss: 0.2041 - accuracy: 0.9307 - val_loss: 0.6994 - val_accuracy: 0.7628\n",
      "Epoch 37/100\n",
      "37/37 [==============================] - 0s 8ms/step - loss: 0.1954 - accuracy: 0.9363 - val_loss: 0.7045 - val_accuracy: 0.7692\n",
      "Epoch 38/100\n",
      "37/37 [==============================] - 0s 7ms/step - loss: 0.1912 - accuracy: 0.9307 - val_loss: 0.6856 - val_accuracy: 0.7692\n",
      "Epoch 39/100\n",
      "37/37 [==============================] - 0s 5ms/step - loss: 0.1847 - accuracy: 0.9280 - val_loss: 0.6985 - val_accuracy: 0.7692\n",
      "Epoch 40/100\n",
      "37/37 [==============================] - 0s 5ms/step - loss: 0.1765 - accuracy: 0.9391 - val_loss: 0.7110 - val_accuracy: 0.7692\n",
      "Epoch 41/100\n",
      "37/37 [==============================] - 0s 5ms/step - loss: 0.1695 - accuracy: 0.9391 - val_loss: 0.7024 - val_accuracy: 0.7692\n",
      "Epoch 42/100\n",
      "37/37 [==============================] - 0s 5ms/step - loss: 0.1666 - accuracy: 0.9363 - val_loss: 0.6997 - val_accuracy: 0.7821\n",
      "Epoch 43/100\n",
      "37/37 [==============================] - 0s 8ms/step - loss: 0.1602 - accuracy: 0.9474 - val_loss: 0.6747 - val_accuracy: 0.7949\n",
      "Epoch 44/100\n",
      "37/37 [==============================] - 0s 6ms/step - loss: 0.1578 - accuracy: 0.9474 - val_loss: 0.6894 - val_accuracy: 0.7949\n",
      "Epoch 45/100\n",
      "37/37 [==============================] - 0s 7ms/step - loss: 0.1501 - accuracy: 0.9474 - val_loss: 0.7024 - val_accuracy: 0.8013\n",
      "Epoch 46/100\n",
      "37/37 [==============================] - 0s 8ms/step - loss: 0.1461 - accuracy: 0.9474 - val_loss: 0.6845 - val_accuracy: 0.7949\n",
      "Epoch 47/100\n",
      "37/37 [==============================] - 0s 8ms/step - loss: 0.1448 - accuracy: 0.9529 - val_loss: 0.7252 - val_accuracy: 0.8013\n",
      "Epoch 48/100\n",
      "37/37 [==============================] - 0s 8ms/step - loss: 0.1372 - accuracy: 0.9446 - val_loss: 0.6920 - val_accuracy: 0.7821\n",
      "Epoch 49/100\n",
      "37/37 [==============================] - 0s 8ms/step - loss: 0.1328 - accuracy: 0.9529 - val_loss: 0.6868 - val_accuracy: 0.7821\n",
      "Epoch 50/100\n",
      "37/37 [==============================] - 0s 7ms/step - loss: 0.1273 - accuracy: 0.9529 - val_loss: 0.7133 - val_accuracy: 0.7885\n",
      "Epoch 51/100\n",
      "37/37 [==============================] - 0s 9ms/step - loss: 0.1253 - accuracy: 0.9501 - val_loss: 0.6754 - val_accuracy: 0.8013\n",
      "Epoch 52/100\n",
      "37/37 [==============================] - 0s 7ms/step - loss: 0.1314 - accuracy: 0.9529 - val_loss: 0.6736 - val_accuracy: 0.8141\n",
      "Epoch 53/100\n",
      "37/37 [==============================] - 0s 7ms/step - loss: 0.1140 - accuracy: 0.9695 - val_loss: 0.6823 - val_accuracy: 0.8077\n",
      "Epoch 54/100\n",
      "37/37 [==============================] - 0s 8ms/step - loss: 0.1129 - accuracy: 0.9557 - val_loss: 0.6666 - val_accuracy: 0.8077\n",
      "Epoch 55/100\n",
      "37/37 [==============================] - 0s 6ms/step - loss: 0.1068 - accuracy: 0.9668 - val_loss: 0.6808 - val_accuracy: 0.8141\n",
      "Epoch 56/100\n",
      "37/37 [==============================] - 0s 8ms/step - loss: 0.1028 - accuracy: 0.9668 - val_loss: 0.6960 - val_accuracy: 0.8141\n",
      "Epoch 57/100\n",
      "37/37 [==============================] - 0s 8ms/step - loss: 0.1115 - accuracy: 0.9668 - val_loss: 0.7052 - val_accuracy: 0.8141\n",
      "Epoch 58/100\n",
      "37/37 [==============================] - 0s 8ms/step - loss: 0.0982 - accuracy: 0.9474 - val_loss: 0.6809 - val_accuracy: 0.8077\n",
      "Epoch 59/100\n",
      "37/37 [==============================] - 0s 7ms/step - loss: 0.0940 - accuracy: 0.9751 - val_loss: 0.6931 - val_accuracy: 0.8269\n",
      "Epoch 60/100\n",
      "37/37 [==============================] - 0s 8ms/step - loss: 0.0871 - accuracy: 0.9723 - val_loss: 0.6961 - val_accuracy: 0.8141\n",
      "Epoch 61/100\n",
      "37/37 [==============================] - 0s 5ms/step - loss: 0.0828 - accuracy: 0.9723 - val_loss: 0.7118 - val_accuracy: 0.8141\n",
      "Epoch 62/100\n",
      "37/37 [==============================] - 0s 6ms/step - loss: 0.0861 - accuracy: 0.9806 - val_loss: 0.7047 - val_accuracy: 0.8269\n",
      "Epoch 63/100\n",
      "37/37 [==============================] - 0s 6ms/step - loss: 0.0815 - accuracy: 0.9695 - val_loss: 0.7010 - val_accuracy: 0.8141\n",
      "Epoch 64/100\n",
      "37/37 [==============================] - 0s 7ms/step - loss: 0.0783 - accuracy: 0.9751 - val_loss: 0.7029 - val_accuracy: 0.8269\n",
      "Epoch 65/100\n",
      "37/37 [==============================] - 0s 6ms/step - loss: 0.0854 - accuracy: 0.9778 - val_loss: 0.6902 - val_accuracy: 0.8397\n",
      "Epoch 66/100\n",
      "37/37 [==============================] - 0s 6ms/step - loss: 0.0726 - accuracy: 0.9806 - val_loss: 0.7062 - val_accuracy: 0.8205\n",
      "Epoch 67/100\n",
      "37/37 [==============================] - 0s 8ms/step - loss: 0.0697 - accuracy: 0.9778 - val_loss: 0.7158 - val_accuracy: 0.8205\n",
      "Epoch 68/100\n",
      "37/37 [==============================] - 0s 8ms/step - loss: 0.0656 - accuracy: 0.9806 - val_loss: 0.7246 - val_accuracy: 0.8205\n",
      "Epoch 69/100\n",
      "37/37 [==============================] - 0s 8ms/step - loss: 0.0644 - accuracy: 0.9889 - val_loss: 0.7399 - val_accuracy: 0.8205\n",
      "Epoch 70/100\n",
      "37/37 [==============================] - 0s 7ms/step - loss: 0.0618 - accuracy: 0.9834 - val_loss: 0.7230 - val_accuracy: 0.8141\n",
      "Epoch 71/100\n",
      "37/37 [==============================] - 0s 7ms/step - loss: 0.0595 - accuracy: 0.9861 - val_loss: 0.7493 - val_accuracy: 0.8205\n",
      "Epoch 72/100\n",
      "37/37 [==============================] - 0s 6ms/step - loss: 0.0601 - accuracy: 0.9778 - val_loss: 0.7642 - val_accuracy: 0.8205\n",
      "Epoch 73/100\n",
      "37/37 [==============================] - 0s 6ms/step - loss: 0.0661 - accuracy: 0.9806 - val_loss: 0.7242 - val_accuracy: 0.8205\n",
      "Epoch 74/100\n",
      "37/37 [==============================] - 0s 6ms/step - loss: 0.0560 - accuracy: 0.9861 - val_loss: 0.7646 - val_accuracy: 0.8269\n",
      "Epoch 75/100\n",
      "37/37 [==============================] - 0s 6ms/step - loss: 0.0540 - accuracy: 0.9889 - val_loss: 0.7537 - val_accuracy: 0.8205\n",
      "Epoch 76/100\n",
      "37/37 [==============================] - 0s 7ms/step - loss: 0.0546 - accuracy: 0.9889 - val_loss: 0.7739 - val_accuracy: 0.8141\n",
      "Epoch 77/100\n",
      "37/37 [==============================] - 0s 5ms/step - loss: 0.0514 - accuracy: 0.9834 - val_loss: 0.7636 - val_accuracy: 0.8205\n",
      "Epoch 78/100\n",
      "37/37 [==============================] - 0s 6ms/step - loss: 0.0506 - accuracy: 0.9917 - val_loss: 0.7754 - val_accuracy: 0.8205\n",
      "Epoch 79/100\n",
      "37/37 [==============================] - 0s 5ms/step - loss: 0.0491 - accuracy: 0.9917 - val_loss: 0.7707 - val_accuracy: 0.8205\n",
      "Epoch 80/100\n",
      "37/37 [==============================] - 0s 5ms/step - loss: 0.0468 - accuracy: 0.9945 - val_loss: 0.8009 - val_accuracy: 0.8205\n",
      "Epoch 81/100\n",
      "37/37 [==============================] - 0s 5ms/step - loss: 0.0489 - accuracy: 0.9917 - val_loss: 0.7882 - val_accuracy: 0.8141\n",
      "Epoch 82/100\n",
      "37/37 [==============================] - 0s 5ms/step - loss: 0.0491 - accuracy: 0.9945 - val_loss: 0.8115 - val_accuracy: 0.8269\n",
      "Epoch 83/100\n",
      "37/37 [==============================] - 0s 6ms/step - loss: 0.0429 - accuracy: 0.9972 - val_loss: 0.8038 - val_accuracy: 0.8205\n",
      "Epoch 84/100\n",
      "37/37 [==============================] - 0s 6ms/step - loss: 0.0407 - accuracy: 0.9917 - val_loss: 0.8028 - val_accuracy: 0.8205\n",
      "Epoch 85/100\n",
      "37/37 [==============================] - 0s 7ms/step - loss: 0.0395 - accuracy: 0.9972 - val_loss: 0.8144 - val_accuracy: 0.8205\n",
      "Epoch 86/100\n",
      "37/37 [==============================] - 0s 7ms/step - loss: 0.0409 - accuracy: 0.9917 - val_loss: 0.7928 - val_accuracy: 0.8205\n",
      "Epoch 87/100\n",
      "37/37 [==============================] - 0s 8ms/step - loss: 0.0404 - accuracy: 0.9861 - val_loss: 0.8185 - val_accuracy: 0.8141\n",
      "Epoch 88/100\n",
      "37/37 [==============================] - 0s 7ms/step - loss: 0.0403 - accuracy: 0.9889 - val_loss: 0.8564 - val_accuracy: 0.8205\n",
      "Epoch 89/100\n",
      "37/37 [==============================] - 0s 8ms/step - loss: 0.0406 - accuracy: 0.9972 - val_loss: 0.8220 - val_accuracy: 0.8205\n",
      "Epoch 90/100\n",
      "37/37 [==============================] - 0s 7ms/step - loss: 0.0409 - accuracy: 0.9861 - val_loss: 0.8320 - val_accuracy: 0.8077\n",
      "Epoch 91/100\n",
      "37/37 [==============================] - 0s 6ms/step - loss: 0.0366 - accuracy: 0.9945 - val_loss: 0.8408 - val_accuracy: 0.8077\n",
      "Epoch 92/100\n",
      "37/37 [==============================] - 0s 6ms/step - loss: 0.0345 - accuracy: 0.9972 - val_loss: 0.8599 - val_accuracy: 0.8205\n",
      "Epoch 93/100\n",
      "37/37 [==============================] - 0s 6ms/step - loss: 0.0346 - accuracy: 0.9917 - val_loss: 0.8568 - val_accuracy: 0.8205\n",
      "Epoch 94/100\n",
      "37/37 [==============================] - 0s 8ms/step - loss: 0.0344 - accuracy: 0.9889 - val_loss: 0.8537 - val_accuracy: 0.8141\n",
      "Epoch 95/100\n",
      "37/37 [==============================] - 0s 7ms/step - loss: 0.0340 - accuracy: 0.9945 - val_loss: 0.8768 - val_accuracy: 0.8141\n",
      "Epoch 96/100\n",
      "37/37 [==============================] - 0s 8ms/step - loss: 0.0347 - accuracy: 0.9917 - val_loss: 0.8634 - val_accuracy: 0.8077\n",
      "Epoch 97/100\n",
      "37/37 [==============================] - 0s 7ms/step - loss: 0.0374 - accuracy: 0.9972 - val_loss: 0.8721 - val_accuracy: 0.8205\n",
      "Epoch 98/100\n",
      "37/37 [==============================] - 0s 8ms/step - loss: 0.0329 - accuracy: 0.9945 - val_loss: 0.8728 - val_accuracy: 0.8205\n",
      "Epoch 99/100\n",
      "37/37 [==============================] - 0s 7ms/step - loss: 0.0527 - accuracy: 0.9917 - val_loss: 0.8867 - val_accuracy: 0.8205\n",
      "Epoch 100/100\n",
      "37/37 [==============================] - 0s 7ms/step - loss: 0.0335 - accuracy: 0.9917 - val_loss: 0.8771 - val_accuracy: 0.8077\n"
     ]
    }
   ],
   "source": [
    "history=model.fit(x,y, validation_split=0.3, epochs=100, batch_size=10)"
   ]
  },
  {
   "cell_type": "code",
   "execution_count": 21,
   "id": "16a2a934-62e8-443b-8e3b-cffc690e275b",
   "metadata": {},
   "outputs": [
    {
     "name": "stdout",
     "output_type": "stream",
     "text": [
      "17/17 [==============================] - 0s 4ms/step - loss: 0.2818 - accuracy: 0.9420\n",
      "accuracy: 94.20%\n"
     ]
    }
   ],
   "source": [
    "score = model.evaluate(x,y)\n",
    "print(\"%s: %.2f%%\" % (model.metrics_names[1], score[1]*100))"
   ]
  },
  {
   "cell_type": "code",
   "execution_count": 22,
   "id": "10eaa9b6-67b8-4a78-b476-deb47df73e4a",
   "metadata": {},
   "outputs": [
    {
     "data": {
      "text/plain": [
       "dict_keys(['loss', 'accuracy', 'val_loss', 'val_accuracy'])"
      ]
     },
     "execution_count": 22,
     "metadata": {},
     "output_type": "execute_result"
    }
   ],
   "source": [
    "history.history.keys()"
   ]
  },
  {
   "cell_type": "code",
   "execution_count": 23,
   "id": "a7b05994-7b27-48c8-a52f-da6a97eea1fe",
   "metadata": {},
   "outputs": [
    {
     "data": {
      "image/png": "[encoded data removed]",
      "text/plain": [
       "<Figure size 640x480 with 1 Axes>"
      ]
     },
     "metadata": {},
     "output_type": "display_data"
    }
   ],
   "source": [
    "import matplotlib.pyplot as plt\n",
    "%matplotlib inline\n",
    "plt.plot(history.history['accuracy'])\n",
    "plt.plot(history.history['val_accuracy'])\n",
    "plt.title('model accuracy')\n",
    "plt.ylabel('accuracy')\n",
    "plt.xlabel('epoch')\n",
    "plt.legend(['train', 'test'], loc='upper left')\n",
    "plt.show()"
   ]
  },
  {
   "cell_type": "code",
   "execution_count": null,
   "id": "1e17d2bb-75c5-4549-b2e6-05b841a0de0b",
   "metadata": {},
   "outputs": [],
   "source": []
  }
 ],
 "metadata": {
  "kernelspec": {
   "display_name": "Python 3 (ipykernel)",
   "language": "python",
   "name": "python3"
  },
  "language_info": {
   "codemirror_mode": {
    "name": "ipython",
    "version": 3
   },
   "file_extension": ".py",
   "mimetype": "text/x-python",
   "name": "python",
   "nbconvert_exporter": "python",
   "pygments_lexer": "ipython3",
   "version": "3.11.5"
  }
 },
 "nbformat": 4,
 "nbformat_minor": 5
}
